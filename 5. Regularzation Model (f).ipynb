{
 "cells": [
  {
   "cell_type": "markdown",
   "id": "bc438383",
   "metadata": {},
   "source": [
    "#### 예측 애널리틱스 : 정규화모델 실습\n",
    "\n",
    "# ■Introduction\n",
    "     예측 애널리틱스 실습 소개\n",
    "     \n",
    "     ※ 목표: 정규화 모델 구축\n",
    "         1. 데이터 전처리\n",
    "         2. Ridge, Lasso, Elasticnet regression 구축 (hyperparameter 탐색)\n",
    "         3. 예측 결과 평가 및 변수 중요도 해석      "
   ]
  },
  {
   "cell_type": "markdown",
   "id": "04f49283",
   "metadata": {},
   "source": [
    "#### 1. 모듈 불러오기"
   ]
  },
  {
   "cell_type": "code",
   "execution_count": 1,
   "id": "06869cf4",
   "metadata": {},
   "outputs": [],
   "source": [
    "from IPython.display import display, HTML\n",
    "import warnings\n",
    "warnings.filterwarnings(action= 'ignore')\n",
    "\n",
    "# 데이터 전처리\n",
    "import numpy as np\n",
    "import pandas as pd\n",
    "\n",
    "#기계 학습 모델 및 평가\n",
    "from sklearn.model_selection import train_test_split\n",
    "from sklearn.linear_model import LinearRegression, Lasso, Ridge, ElasticNet, LassoCV, ElasticNetCV\n",
    "from sklearn.model_selection import KFold, GridSearchCV\n",
    "from sklearn.preprocessing import StandardScaler\n",
    "from sklearn.feature_extraction import DictVectorizer\n",
    "from sklearn import metrics\n",
    "from sklearn.metrics import mean_squared_error, r2_score, mean_absolute_error\n",
    "\n",
    "#시각화\n",
    "import seaborn as sns\n",
    "import matplotlib.pyplot as plt\n",
    "\n",
    "#한글 폰트 설정\n",
    "plt.rc('font', family='Malgun Gothic')"
   ]
  },
  {
   "cell_type": "markdown",
   "id": "13c6534e",
   "metadata": {},
   "source": [
    "### 2. 데이터 불러오기 : HousePrices\n",
    "\n",
    "#### 데이터 구조\n",
    "   * 데이터: 집 가격 예측 데이터\n",
    "   * 관측치 개수 : 1460개\n",
    "   * 변수 개수 : 80개(집의 특성, 집가격)"
   ]
  },
  {
   "cell_type": "code",
   "execution_count": 4,
   "id": "da0e6339",
   "metadata": {},
   "outputs": [
    {
     "ename": "ParserError",
     "evalue": "Error tokenizing data. C error: Expected 1 fields in line 28, saw 509\n",
     "output_type": "error",
     "traceback": [
      "\u001b[1;31m---------------------------------------------------------------------------\u001b[0m",
      "\u001b[1;31mParserError\u001b[0m                               Traceback (most recent call last)",
      "\u001b[1;32m~\\AppData\\Local\\Temp/ipykernel_9872/143688703.py\u001b[0m in \u001b[0;36m<module>\u001b[1;34m\u001b[0m\n\u001b[0;32m      1\u001b[0m \u001b[0murl\u001b[0m\u001b[1;33m=\u001b[0m\u001b[1;34m'https://github.com/ywchiu/riii/blob/master/data/house-prices.csv'\u001b[0m\u001b[1;33m\u001b[0m\u001b[1;33m\u001b[0m\u001b[0m\n\u001b[1;32m----> 2\u001b[1;33m \u001b[0mdata\u001b[0m \u001b[1;33m=\u001b[0m \u001b[0mpd\u001b[0m\u001b[1;33m.\u001b[0m\u001b[0mread_csv\u001b[0m\u001b[1;33m(\u001b[0m\u001b[0murl\u001b[0m\u001b[1;33m,\u001b[0m\u001b[0mindex_col\u001b[0m\u001b[1;33m=\u001b[0m\u001b[1;34m'Id'\u001b[0m\u001b[1;33m)\u001b[0m\u001b[1;33m\u001b[0m\u001b[1;33m\u001b[0m\u001b[0m\n\u001b[0m\u001b[0;32m      3\u001b[0m \u001b[0mdata\u001b[0m\u001b[1;33m.\u001b[0m\u001b[0mhead\u001b[0m\u001b[1;33m(\u001b[0m\u001b[1;33m)\u001b[0m\u001b[1;33m\u001b[0m\u001b[1;33m\u001b[0m\u001b[0m\n",
      "\u001b[1;32m~\\anaconda3\\lib\\site-packages\\pandas\\util\\_decorators.py\u001b[0m in \u001b[0;36mwrapper\u001b[1;34m(*args, **kwargs)\u001b[0m\n\u001b[0;32m    309\u001b[0m                     \u001b[0mstacklevel\u001b[0m\u001b[1;33m=\u001b[0m\u001b[0mstacklevel\u001b[0m\u001b[1;33m,\u001b[0m\u001b[1;33m\u001b[0m\u001b[1;33m\u001b[0m\u001b[0m\n\u001b[0;32m    310\u001b[0m                 )\n\u001b[1;32m--> 311\u001b[1;33m             \u001b[1;32mreturn\u001b[0m \u001b[0mfunc\u001b[0m\u001b[1;33m(\u001b[0m\u001b[1;33m*\u001b[0m\u001b[0margs\u001b[0m\u001b[1;33m,\u001b[0m \u001b[1;33m**\u001b[0m\u001b[0mkwargs\u001b[0m\u001b[1;33m)\u001b[0m\u001b[1;33m\u001b[0m\u001b[1;33m\u001b[0m\u001b[0m\n\u001b[0m\u001b[0;32m    312\u001b[0m \u001b[1;33m\u001b[0m\u001b[0m\n\u001b[0;32m    313\u001b[0m         \u001b[1;32mreturn\u001b[0m \u001b[0mwrapper\u001b[0m\u001b[1;33m\u001b[0m\u001b[1;33m\u001b[0m\u001b[0m\n",
      "\u001b[1;32m~\\anaconda3\\lib\\site-packages\\pandas\\io\\parsers\\readers.py\u001b[0m in \u001b[0;36mread_csv\u001b[1;34m(filepath_or_buffer, sep, delimiter, header, names, index_col, usecols, squeeze, prefix, mangle_dupe_cols, dtype, engine, converters, true_values, false_values, skipinitialspace, skiprows, skipfooter, nrows, na_values, keep_default_na, na_filter, verbose, skip_blank_lines, parse_dates, infer_datetime_format, keep_date_col, date_parser, dayfirst, cache_dates, iterator, chunksize, compression, thousands, decimal, lineterminator, quotechar, quoting, doublequote, escapechar, comment, encoding, encoding_errors, dialect, error_bad_lines, warn_bad_lines, on_bad_lines, delim_whitespace, low_memory, memory_map, float_precision, storage_options)\u001b[0m\n\u001b[0;32m    678\u001b[0m     \u001b[0mkwds\u001b[0m\u001b[1;33m.\u001b[0m\u001b[0mupdate\u001b[0m\u001b[1;33m(\u001b[0m\u001b[0mkwds_defaults\u001b[0m\u001b[1;33m)\u001b[0m\u001b[1;33m\u001b[0m\u001b[1;33m\u001b[0m\u001b[0m\n\u001b[0;32m    679\u001b[0m \u001b[1;33m\u001b[0m\u001b[0m\n\u001b[1;32m--> 680\u001b[1;33m     \u001b[1;32mreturn\u001b[0m \u001b[0m_read\u001b[0m\u001b[1;33m(\u001b[0m\u001b[0mfilepath_or_buffer\u001b[0m\u001b[1;33m,\u001b[0m \u001b[0mkwds\u001b[0m\u001b[1;33m)\u001b[0m\u001b[1;33m\u001b[0m\u001b[1;33m\u001b[0m\u001b[0m\n\u001b[0m\u001b[0;32m    681\u001b[0m \u001b[1;33m\u001b[0m\u001b[0m\n\u001b[0;32m    682\u001b[0m \u001b[1;33m\u001b[0m\u001b[0m\n",
      "\u001b[1;32m~\\anaconda3\\lib\\site-packages\\pandas\\io\\parsers\\readers.py\u001b[0m in \u001b[0;36m_read\u001b[1;34m(filepath_or_buffer, kwds)\u001b[0m\n\u001b[0;32m    579\u001b[0m \u001b[1;33m\u001b[0m\u001b[0m\n\u001b[0;32m    580\u001b[0m     \u001b[1;32mwith\u001b[0m \u001b[0mparser\u001b[0m\u001b[1;33m:\u001b[0m\u001b[1;33m\u001b[0m\u001b[1;33m\u001b[0m\u001b[0m\n\u001b[1;32m--> 581\u001b[1;33m         \u001b[1;32mreturn\u001b[0m \u001b[0mparser\u001b[0m\u001b[1;33m.\u001b[0m\u001b[0mread\u001b[0m\u001b[1;33m(\u001b[0m\u001b[0mnrows\u001b[0m\u001b[1;33m)\u001b[0m\u001b[1;33m\u001b[0m\u001b[1;33m\u001b[0m\u001b[0m\n\u001b[0m\u001b[0;32m    582\u001b[0m \u001b[1;33m\u001b[0m\u001b[0m\n\u001b[0;32m    583\u001b[0m \u001b[1;33m\u001b[0m\u001b[0m\n",
      "\u001b[1;32m~\\anaconda3\\lib\\site-packages\\pandas\\io\\parsers\\readers.py\u001b[0m in \u001b[0;36mread\u001b[1;34m(self, nrows)\u001b[0m\n\u001b[0;32m   1253\u001b[0m             \u001b[0mnrows\u001b[0m \u001b[1;33m=\u001b[0m \u001b[0mvalidate_integer\u001b[0m\u001b[1;33m(\u001b[0m\u001b[1;34m\"nrows\"\u001b[0m\u001b[1;33m,\u001b[0m \u001b[0mnrows\u001b[0m\u001b[1;33m)\u001b[0m\u001b[1;33m\u001b[0m\u001b[1;33m\u001b[0m\u001b[0m\n\u001b[0;32m   1254\u001b[0m             \u001b[1;32mtry\u001b[0m\u001b[1;33m:\u001b[0m\u001b[1;33m\u001b[0m\u001b[1;33m\u001b[0m\u001b[0m\n\u001b[1;32m-> 1255\u001b[1;33m                 \u001b[0mindex\u001b[0m\u001b[1;33m,\u001b[0m \u001b[0mcolumns\u001b[0m\u001b[1;33m,\u001b[0m \u001b[0mcol_dict\u001b[0m \u001b[1;33m=\u001b[0m \u001b[0mself\u001b[0m\u001b[1;33m.\u001b[0m\u001b[0m_engine\u001b[0m\u001b[1;33m.\u001b[0m\u001b[0mread\u001b[0m\u001b[1;33m(\u001b[0m\u001b[0mnrows\u001b[0m\u001b[1;33m)\u001b[0m\u001b[1;33m\u001b[0m\u001b[1;33m\u001b[0m\u001b[0m\n\u001b[0m\u001b[0;32m   1256\u001b[0m             \u001b[1;32mexcept\u001b[0m \u001b[0mException\u001b[0m\u001b[1;33m:\u001b[0m\u001b[1;33m\u001b[0m\u001b[1;33m\u001b[0m\u001b[0m\n\u001b[0;32m   1257\u001b[0m                 \u001b[0mself\u001b[0m\u001b[1;33m.\u001b[0m\u001b[0mclose\u001b[0m\u001b[1;33m(\u001b[0m\u001b[1;33m)\u001b[0m\u001b[1;33m\u001b[0m\u001b[1;33m\u001b[0m\u001b[0m\n",
      "\u001b[1;32m~\\anaconda3\\lib\\site-packages\\pandas\\io\\parsers\\c_parser_wrapper.py\u001b[0m in \u001b[0;36mread\u001b[1;34m(self, nrows)\u001b[0m\n\u001b[0;32m    223\u001b[0m         \u001b[1;32mtry\u001b[0m\u001b[1;33m:\u001b[0m\u001b[1;33m\u001b[0m\u001b[1;33m\u001b[0m\u001b[0m\n\u001b[0;32m    224\u001b[0m             \u001b[1;32mif\u001b[0m \u001b[0mself\u001b[0m\u001b[1;33m.\u001b[0m\u001b[0mlow_memory\u001b[0m\u001b[1;33m:\u001b[0m\u001b[1;33m\u001b[0m\u001b[1;33m\u001b[0m\u001b[0m\n\u001b[1;32m--> 225\u001b[1;33m                 \u001b[0mchunks\u001b[0m \u001b[1;33m=\u001b[0m \u001b[0mself\u001b[0m\u001b[1;33m.\u001b[0m\u001b[0m_reader\u001b[0m\u001b[1;33m.\u001b[0m\u001b[0mread_low_memory\u001b[0m\u001b[1;33m(\u001b[0m\u001b[0mnrows\u001b[0m\u001b[1;33m)\u001b[0m\u001b[1;33m\u001b[0m\u001b[1;33m\u001b[0m\u001b[0m\n\u001b[0m\u001b[0;32m    226\u001b[0m                 \u001b[1;31m# destructive to chunks\u001b[0m\u001b[1;33m\u001b[0m\u001b[1;33m\u001b[0m\u001b[0m\n\u001b[0;32m    227\u001b[0m                 \u001b[0mdata\u001b[0m \u001b[1;33m=\u001b[0m \u001b[0m_concatenate_chunks\u001b[0m\u001b[1;33m(\u001b[0m\u001b[0mchunks\u001b[0m\u001b[1;33m)\u001b[0m\u001b[1;33m\u001b[0m\u001b[1;33m\u001b[0m\u001b[0m\n",
      "\u001b[1;32m~\\anaconda3\\lib\\site-packages\\pandas\\_libs\\parsers.pyx\u001b[0m in \u001b[0;36mpandas._libs.parsers.TextReader.read_low_memory\u001b[1;34m()\u001b[0m\n",
      "\u001b[1;32m~\\anaconda3\\lib\\site-packages\\pandas\\_libs\\parsers.pyx\u001b[0m in \u001b[0;36mpandas._libs.parsers.TextReader._read_rows\u001b[1;34m()\u001b[0m\n",
      "\u001b[1;32m~\\anaconda3\\lib\\site-packages\\pandas\\_libs\\parsers.pyx\u001b[0m in \u001b[0;36mpandas._libs.parsers.TextReader._tokenize_rows\u001b[1;34m()\u001b[0m\n",
      "\u001b[1;32m~\\anaconda3\\lib\\site-packages\\pandas\\_libs\\parsers.pyx\u001b[0m in \u001b[0;36mpandas._libs.parsers.raise_parser_error\u001b[1;34m()\u001b[0m\n",
      "\u001b[1;31mParserError\u001b[0m: Error tokenizing data. C error: Expected 1 fields in line 28, saw 509\n"
     ]
    }
   ],
   "source": [
    "url='https://github.com/ywchiu/riii/blob/master/data/house-prices.csv'\n",
    "data = pd.read_csv(url,index_col='Id')\n",
    "data.head()"
   ]
  },
  {
   "cell_type": "markdown",
   "id": "6a33b101",
   "metadata": {},
   "source": [
    "### 3. 탐색적 데이터 분석 및 데이터 전처리\n",
    "\n",
    "데이터 shape 확인"
   ]
  },
  {
   "cell_type": "code",
   "execution_count": null,
   "id": "8ad9b88a",
   "metadata": {},
   "outputs": [],
   "source": [
    "print(f'관측치 수 :{data.shape[0]}\\n변수 수 : {data.shape[1]}')"
   ]
  },
  {
   "cell_type": "code",
   "execution_count": null,
   "id": "8fcbb09c",
   "metadata": {},
   "outputs": [],
   "source": [
    "data.info()"
   ]
  },
  {
   "cell_type": "markdown",
   "id": "c3e699e7",
   "metadata": {},
   "source": [
    "### 데이터 타입 변환 (int -> str(object))"
   ]
  },
  {
   "cell_type": "code",
   "execution_count": null,
   "id": "6727dcf1",
   "metadata": {},
   "outputs": [],
   "source": [
    "for categ in ['MSSubClass', 'OverallQual', 'OverallCond']:\n",
    "    data[categ] = data[categ].astype(str)"
   ]
  },
  {
   "cell_type": "markdown",
   "id": "83d8471d",
   "metadata": {},
   "source": [
    "### target y 값 분포 확인"
   ]
  },
  {
   "cell_type": "code",
   "execution_count": null,
   "id": "60a48dca",
   "metadata": {},
   "outputs": [],
   "source": [
    "f = sns.displot(data['Saleprice'])"
   ]
  },
  {
   "cell_type": "markdown",
   "id": "2f55d74a",
   "metadata": {},
   "source": [
    "### Train/Test 데이터 분리\n",
    " * 설명변수(X),반응변수(y) 나누기"
   ]
  },
  {
   "cell_type": "code",
   "execution_count": null,
   "id": "20b0c5b4",
   "metadata": {},
   "outputs": [],
   "source": [
    "X = data.drop('SalePrice',axis = 1)\n",
    "y = data['SalePrice']\n",
    "\n",
    "display(X.head(3))"
   ]
  },
  {
   "cell_type": "code",
   "execution_count": null,
   "id": "b3b6881f",
   "metadata": {},
   "outputs": [],
   "source": [
    "X_train, X_test, y_train, y_test = train_test_split(X,y, test_size=0.3, random_state=2021)"
   ]
  },
  {
   "cell_type": "markdown",
   "id": "bef28073",
   "metadata": {},
   "source": [
    "### Null 확인 및 대체\n",
    " * Null,NaN,NA '정해지지 않은 값' 개수 확인\n",
    " * https://data-make,tistory.com/120"
   ]
  },
  {
   "cell_type": "code",
   "execution_count": null,
   "id": "fe9b4e07",
   "metadata": {},
   "outputs": [],
   "source": [
    "NaNinfo = X_train.isnull().sum()\n",
    "NaNinfo = NaNinfo.sort_values(ascending=False) # sort 메소드를 이용한 내림차순 정렬\n",
    "NaNinfo = NaNinfo[NaNinfo > 0]\n",
    "NaNinfo"
   ]
  },
  {
   "cell_type": "code",
   "execution_count": null,
   "id": "5dedbb18",
   "metadata": {},
   "outputs": [],
   "source": [
    "# unique names for features with NaN values\n",
    "for col in NaNinfo.index :\n",
    "    print(f'{col} : {data[col].unique().tolist()[:10]}')"
   ]
  },
  {
   "cell_type": "markdown",
   "id": "ad407d68",
   "metadata": {},
   "source": [
    " * Target : SalePrice에 결측값이 있다면 해당 관측자는 제거\n",
    " * Numerical : 평균값으로 대체( 다양한 방법이 있을 수 있으나)\n",
    " * Categorical : 'NaN'으로 대체"
   ]
  },
  {
   "cell_type": "code",
   "execution_count": null,
   "id": "55a4e56b",
   "metadata": {},
   "outputs": [],
   "source": [
    "for feature in ['LotFronttage' , 'LotArea', 'MasVnrArea',\n",
    "               'BsmtFinSF1', 'BsmtFinSF2','BsmtUnfSF', 'TotalBsmtSF',\n",
    "               '1stFlrSF', '2ndFlrSF', 'LowQualFinSF', 'GrLivArea', 'BsmtFullBath', 'BsmtHalfBath','FullBath', 'HalfBath',\n",
    "               'BedroomAbvGr', 'KitchenAbvGr', 'TotRmsAbvGrd', 'Fireplaces', 'GarageYrBlt',\n",
    "                'GarageCars','GarageArea','WoodDeckSF','OpenPorchSF', 'EnclosedPorch', '3SsnPorch',\n",
    "                'ScreenPorch', 'PoolArea','MiscVal']:\n",
    "    X_train[feature] = X_train[feature].fillna('NaN')\n",
    "    X_test[feature] = X_test[feature].fillna('NaN')\n",
    "    \n",
    "for feature in ['PoolQC', 'MiscFeature', 'Alley' ,'Fence' , 'FireplaceQu',\n",
    "               'GarageCond', 'GarageType', 'GarageFinish','GarageQual',\n",
    "               'BsmtExposure','BsmtFinType2','BsmtQual','BsmtCond','BsmtFinType1',\n",
    "               'Electrical', 'MSZoning', 'Funtional', 'Utilities', 'KitchenQual',\n",
    "               'SaleType', 'Exterior1st','Exterior2nd', 'MasVnrType']:\n",
    "    X_train[feature] = X_train[feature].fillna('NaN')\n",
    "    X_test[feature] = X_test[feature].fillna('NaN')"
   ]
  },
  {
   "cell_type": "markdown",
   "id": "924aa082",
   "metadata": {},
   "source": [
    " * data 타입별로 변수명 묶기\n",
    " * 카테고리 변수명만 뽑아내기"
   ]
  },
  {
   "cell_type": "code",
   "execution_count": null,
   "id": "5b326005",
   "metadata": {},
   "outputs": [],
   "source": [
    "category = list(X_train.select_dtypes(include=[object]))\n",
    "category[:10]"
   ]
  },
  {
   "cell_type": "markdown",
   "id": "d2b40191",
   "metadata": {},
   "source": [
    " * 카테고리 변수 encoding (vectorizing)\n",
    " * 수치형 변수 scaling\n",
    " * 주의점 : train 학습 데이터로 encoding, scaler fitting"
   ]
  },
  {
   "cell_type": "markdown",
   "id": "926dd77e",
   "metadata": {},
   "source": [
    "# ■Label encoding vs One-hot encoding\n",
    "\n",
    " ※ Label encoding\n",
    "  * 정렬된 기준으로 숫자를 할당\n",
    "  \n",
    " ※ One-hot encoding\n",
    "  * 범주 종류에 대해 이진 값으로 할당\n",
    "  "
   ]
  },
  {
   "cell_type": "code",
   "execution_count": null,
   "id": "3f35b8c4",
   "metadata": {},
   "outputs": [],
   "source": [
    "#whole_data = pd.concat([X_train, X_test], axis=0)\n",
    "vec = DictVectorizer()\n",
    "vec.fit(X_train[category].to_dict('records'))\n",
    "\n",
    "scaler = StandardScaler()\n",
    "scaler.fit(X_train.drop(category,axis=1))"
   ]
  },
  {
   "cell_type": "code",
   "execution_count": null,
   "id": "9c3d53c1",
   "metadata": {},
   "outputs": [],
   "source": [
    "X_category = vec.transform(X_train[category].to.dict('records'))\n",
    "X_train_category = pd.DataFrame(X_category.toarray(),columns=vec.feature_names_)\n",
    "display(X_train_category.head())\n",
    "\n",
    "X_train_without_category = X_train.drop(category,axis=1)\n",
    "X_scale =scaler.transform(X_train_without_category)\n",
    "X_train_scale = pd.DataFrame(X_scale, columns=X_train_without_category.columns)\n",
    "display(X_train_scale.head())"
   ]
  },
  {
   "cell_type": "code",
   "execution_count": null,
   "id": "380e0abb",
   "metadata": {},
   "outputs": [],
   "source": [
    "X_train_final = pd.concat([X_train_scale, X_train_category], axis=1)\n",
    "X_train_final.tail()"
   ]
  },
  {
   "cell_type": "code",
   "execution_count": null,
   "id": "86a1bb03",
   "metadata": {},
   "outputs": [],
   "source": [
    "X_category = vec.transform(X_test[category].to.dict('records'))\n",
    "X_test_category = pd.DataFrame(X_category.toarray(),columns=vec.feature_names_)\n",
    "display(X_test_category.head())\n",
    "\n",
    "X_test_without_category = X_test.drop(category,axis=1)\n",
    "X_scale =scaler.transform(X_test_without_category)\n",
    "X_test_scale = pd.DataFrame(X_scale, columns=X_test_without_category.columns)\n",
    "display(X_test_scale.head())"
   ]
  },
  {
   "cell_type": "code",
   "execution_count": null,
   "id": "9157b47b",
   "metadata": {},
   "outputs": [],
   "source": [
    "X_test_final = pd.concat([X_test_scale,X_test_category],axis=1)\n",
    "X_test_final.tail()"
   ]
  },
  {
   "cell_type": "code",
   "execution_count": null,
   "id": "3ea3e9fd",
   "metadata": {},
   "outputs": [],
   "source": [
    "X_train,y_train = X_train_final.values , y_train.values\n",
    "X_test, y_test = X_test_final.values, y_test.values"
   ]
  },
  {
   "cell_type": "markdown",
   "id": "89c7eb85",
   "metadata": {},
   "source": [
    "### 3. 모델링\n",
    " * sklearn.linear_model\n",
    " * https://scikit-learn.org/stable/modules/classes.html#module-sklearn.linear mdoel\n",
    " * Lasso , Ridge , ElasticNet"
   ]
  },
  {
   "cell_type": "markdown",
   "id": "15c61a12",
   "metadata": {},
   "source": [
    "#### 3.1 Linear regression vs Lasso vs Ridge 계수 비교\n",
    "\n",
    "# ■Ridge and Lasso regression"
   ]
  },
  {
   "cell_type": "code",
   "execution_count": null,
   "id": "52b9a14c",
   "metadata": {},
   "outputs": [],
   "source": [
    "model_LR = LinearRegression(n_jobs=-1)\n",
    "model_LR.fit(X_train,y_train)\n",
    "display(pd.DataFrame(model_LR.coef_,\n",
    "                    index=X_test_final.columns,columns = ['Linear regression 계수']))"
   ]
  },
  {
   "cell_type": "code",
   "execution_count": null,
   "id": "6befc961",
   "metadata": {},
   "outputs": [],
   "source": [
    "model_Lasso1 = Lasso(alpha=0.0001, random_state=1)\n",
    "model_Lasso2 = Lasso(alpha=100.0, random_state=1)\n",
    "model_Ridge1 = Ridge(alpha=0.0001, random_state=1)\n",
    "model_Ridge2 = Ridge(alpha=100.0, random_state=1)\n",
    "\n",
    "model_Lasso1.fit(X_train,y_train)\n",
    "model_Lasso2.fit(X_train,y_train) \n",
    "model_Ridge1.fit(X_train,y_train) \n",
    "model_Ridge2.fit(X_train,y_train) "
   ]
  },
  {
   "cell_type": "code",
   "execution_count": null,
   "id": "1f8af569",
   "metadata": {},
   "outputs": [],
   "source": [
    "plt.figure(figsize=(10,5))\n",
    "plt.plot(sorted(np.abs(model_LR.coef_))[::-1], label='LR',c='gray')\n",
    "plt.plot(sorted(np.abs(model_Lasso1.coef_))[::-1], label='Lasso alpha=0.0001')\n",
    "plt.plot(sorted(np.abs(model_Lasso2.coef_))[::-1], label='Lasso1 alpha=100')\n",
    "plt.plot(sorted(np.abs(model_LR.coef_))[::-1], label='Ridge alpha=0.0001')\n",
    "plt.plot(sorted(np.abs(model_LR.coef_))[::-1], label='Ridge alpha=100')\n",
    "plt.legend()\n",
    "plt.ylim((-0.1,1000)) # 50000\n",
    "plt.show()"
   ]
  },
  {
   "cell_type": "markdown",
   "id": "48064849",
   "metadata": {},
   "source": [
    "#### 3.2 k fold cross validation으로 하이퍼파라미터(lambda=alpha) 찾기"
   ]
  },
  {
   "cell_type": "markdown",
   "id": "e97fa50a",
   "metadata": {},
   "source": [
    "# ■K-fold cross Validation\n",
    "    ※ Hyperparameter 탐색\n",
    "    \n",
    "    ※ Train set / Test set\n",
    "       * Test set을 통해 모델의 성능을 검증하고, hyperparameter를 설정하게 되면 구축된 모델이 test set에 overfitting될 수 있음"
   ]
  },
  {
   "cell_type": "markdown",
   "id": "a130a8cd",
   "metadata": {},
   "source": [
    "# ■K-fold cross Validation\n",
    "  ※ Train set/ Validation set / Test set ->K-fold cross Validation\n",
    "   * 모든 데이터셋을 Train에 활용할 수 있음\n",
    "     정확도를 향상 시킬 수 있다.\n",
    "     데이터 부족으로 인한 underfitting을 방지할 수 있다.\n",
    "    \n",
    "   * 모든 데이터셋을 Validation에 활용할 수 있음\n",
    "     평가에 사용되늰 데이터 편중을 막을 수 있다.\n",
    "     평가 결과에 따라 좀 더 일반화된 모델을 구축할 수 있다."
   ]
  },
  {
   "cell_type": "code",
   "execution_count": null,
   "id": "c9708622",
   "metadata": {},
   "outputs": [],
   "source": [
    "cv = 5 # number of folds for cross validation\n",
    "max_iter = 5000\n",
    "\n",
    "n_trials = 50\n",
    "def myrange(start,end,step):\n",
    "    r = start\n",
    "    while(r<end):\n",
    "        yield r\n",
    "        r += step\n",
    "\n",
    "alpha_list = list(reversed([round(i,2) for i in myrange(0.01,10,0.1)]))"
   ]
  },
  {
   "cell_type": "markdown",
   "id": "cc27ab52",
   "metadata": {},
   "source": [
    "* 모델학습"
   ]
  },
  {
   "cell_type": "code",
   "execution_count": null,
   "id": "ebc75e9c",
   "metadata": {},
   "outputs": [],
   "source": [
    "model_Lasso = LassoCV(alphas=alpha_list, cv=cv, n_jobs= -1, random_state=1, max_iter=max_iter)\n",
    "model_Lasso.fit(X_train,y_train)"
   ]
  },
  {
   "cell_type": "code",
   "execution_count": null,
   "id": "951e3852",
   "metadata": {},
   "outputs": [],
   "source": [
    "model_Lasso.alpha_"
   ]
  },
  {
   "cell_type": "markdown",
   "id": "c28e4c32",
   "metadata": {},
   "source": [
    "* 학습된 모델 사용 예측값 출력"
   ]
  },
  {
   "cell_type": "code",
   "execution_count": null,
   "id": "24292221",
   "metadata": {},
   "outputs": [],
   "source": [
    "pred_train_LR = model_LR.predict(X_train)\n",
    "pred_test_LR = model_LR.predict(X_test)\n",
    "pred_train_Lasso= model_Lasso.predict(X_train)\n",
    "pred_test_Lasso = model_Lasso.predict(X_test)"
   ]
  },
  {
   "cell_type": "markdown",
   "id": "a1436c2f",
   "metadata": {},
   "source": [
    "\n",
    "* 학습/테스트 예측 결과 성능 출력"
   ]
  },
  {
   "cell_type": "code",
   "execution_count": null,
   "id": "881b1a0d",
   "metadata": {},
   "outputs": [],
   "source": [
    "train_rmse_LR = np.sqrt(mean_squared_error(y_train,pred_train_LR))\n",
    "train_mae_LR = mean_absolute_error(y_train,pred_train_LR)\n",
    "train_r2_LR = r2_score(y_train,pred_train_LR)\n",
    "\n",
    "test_rmse_LR = np.sqrt(mean_squared_error(y_test,pred_test_LR))\n",
    "test_mae_LR = mean_absolute_error(y_test,pred_test_LR)\n",
    "test_r2_LR = r2_score(y_test,pred_test_LR)\n",
    "\n",
    "train_rmse_Lasso = np.sqrt(mean_squared_error(y_train,pred_train_Lasso))\n",
    "train_mae_Lasso = mean_absolute_error(y_train,pred_train_Lasso)\n",
    "train_r2_Lasso = r2_score(y_train,pred_train_Lasso)\n",
    "\n",
    "test_rmse_Lasso = np.sqrt(mean_squared_error(y_test,pred_test_Lasso))\n",
    "test_mae_Lasso = mean_absolute_error(y_test,pred_test_Lasso)\n",
    "test_r2_Lasso = r2_score(y_test,pred_test_Lasso)\n"
   ]
  },
  {
   "cell_type": "code",
   "execution_count": null,
   "id": "62f325d2",
   "metadata": {},
   "outputs": [],
   "source": [
    "results = pd.DataFrame(index=['rmse','mae','r2'],columns=['LR train','LR test','Lasso train','Lasso test'])"
   ]
  },
  {
   "cell_type": "code",
   "execution_count": null,
   "id": "fb747f17",
   "metadata": {},
   "outputs": [],
   "source": [
    "results.loc['rmse','LR train']=train_rmse_LR\n",
    "results.loc['mae','LR train']=train_mae_LR\n",
    "results.loc['r2','LR train']=train_r2_LR\n",
    "\n",
    "results.loc['rmse','LR test']=test_rmse_LR\n",
    "results.loc['mae','LR test']=test_mae_LR\n",
    "results.loc['r2','LR test']=test_r2_LR\n",
    "\n",
    "results.loc['rmse','Lasso train']=train_rmse_Lasso\n",
    "results.loc['mae','Lasso train']=train_mae_Lasso\n",
    "results.loc['r2','Lasso train']=train_r2_Lasso\n",
    "\n",
    "results.loc['rmae','Lasso test']=test_rmse_Lasso\n",
    "results.loc['mae','Lasso test']=test_mae_Lasso\n",
    "results.loc['r2','Lasso test']=test_r2_Lasso"
   ]
  },
  {
   "cell_type": "raw",
   "id": "268770e9",
   "metadata": {},
   "source": [
    "results"
   ]
  },
  {
   "cell_type": "markdown",
   "id": "481f2fa7",
   "metadata": {},
   "source": [
    "#### 3.3 k fold cross validation(K 폴드 교차 검증)으로 하이퍼 파라미터 찾기 + 모델 비교 선택"
   ]
  },
  {
   "cell_type": "code",
   "execution_count": null,
   "id": "099c9500",
   "metadata": {},
   "outputs": [],
   "source": [
    "#dict with optimal models\n",
    "models = {} #dict()\n",
    "\n",
    "#find optimal value of alpha\n",
    "n_trials = 20\n",
    "alpha_list = 10 ** np.linspace(-3,3,n_trials)\n",
    "\n",
    "# number of folds for cross validation\n",
    "cv=5\n",
    "\n",
    "# find optiamal value of l1 (for ElasticNet)\n",
    "alpha_list =list(reversed([round(i,2) for i in myrange(0.01,10,0.1)]))\n",
    "l1_list =list(reversed([round(i,2) for i in myrange(0,1,0.1)]))\n",
    "\n",
    "max_iter = 5000"
   ]
  },
  {
   "cell_type": "code",
   "execution_count": null,
   "id": "8b2206bf",
   "metadata": {},
   "outputs": [],
   "source": [
    "# find optimal Lasso model\n",
    "model = LassoCV(alphas=alpha_list, cv=cv, n_jobs=-1, random_state=1, max_iter=max_iter)\n",
    "model.fit(X_train, y_train)\n",
    "models['Lasso'] = Lasso(alpha=model.alpha_, max_iter=max_iter)"
   ]
  },
  {
   "cell_type": "code",
   "execution_count": null,
   "id": "bb5deeb5",
   "metadata": {},
   "outputs": [],
   "source": [
    "# find optimal Ridge model\n",
    "model = RidgeCV(alphas=alpha_list, cv=cv)\n",
    "model.fit(X_train, y_train)\n",
    "models['Ridge'] = Ridge(alpha=model.alpha_)"
   ]
  },
  {
   "cell_type": "code",
   "execution_count": null,
   "id": "803b2143",
   "metadata": {},
   "outputs": [],
   "source": [
    "# find optimal ElasticNet model\n",
    "model = RidgeCV(alphas=alpha_list, l1_ratio=l1_list,\n",
    "               cv=cv,random_state=1,n_jobs=-1,max_iter=max_iter)\n",
    "model.fit(X_train, y_train)\n",
    "models['ElasticNet'] = ElasticNet(alpha=model.alpha_, l1_ratio=model.l1_ratio_, max_iter=max_iter)"
   ]
  },
  {
   "cell_type": "code",
   "execution_count": null,
   "id": "82ab5fec",
   "metadata": {},
   "outputs": [],
   "source": [
    "for name in models.keys():\n",
    "    print(models[name])\n",
    "    print('-'*100)"
   ]
  },
  {
   "cell_type": "code",
   "execution_count": null,
   "id": "f436b784",
   "metadata": {},
   "outputs": [],
   "source": [
    "kf = kFold(cv. shuffle = True random_state=1)\n",
    "kf"
   ]
  },
  {
   "cell_type": "code",
   "execution_count": null,
   "id": "ed779e3c",
   "metadata": {},
   "outputs": [],
   "source": [
    "score = {}\n",
    " for name in models.keys():\n",
    "        # save score for each model\n",
    "        if name not in score:\n",
    "            score[name] = []\n",
    "        \n",
    "        # 모델\n",
    "        reg = models[name]\n",
    "        for i_train. i_valid in kf.split(X_train):\n",
    "        \n",
    "        #학습\n",
    "        reg.fit(X_train[i_train],y_train[i_train])\n",
    "        #예측\n",
    "        y-pred = reg.predict(X_train[i_valid])\n",
    "        RMSE = np.sqrt(mean_squared_error(y_train[i_valid],y_pred))\n",
    "        score[name].append(RMSE)"
   ]
  },
  {
   "cell_type": "code",
   "execution_count": null,
   "id": "35af3408",
   "metadata": {},
   "outputs": [],
   "source": [
    "score"
   ]
  },
  {
   "cell_type": "code",
   "execution_count": null,
   "id": "66778d77",
   "metadata": {},
   "outputs": [],
   "source": [
    "results = pd.DataFrame(score)\n",
    "results"
   ]
  },
  {
   "cell_type": "code",
   "execution_count": null,
   "id": "d66aec35",
   "metadata": {},
   "outputs": [],
   "source": [
    "ax = results.plot.bar()\n",
    "pd.concat([results.mean(), results.std()], axis=1,keys=['mean','std'])"
   ]
  },
  {
   "cell_type": "markdown",
   "id": "c3c217cc",
   "metadata": {},
   "source": [
    "#### 3.4 최종 모델 학습, 결과 출력, 성능확인"
   ]
  },
  {
   "cell_type": "code",
   "execution_count": null,
   "id": "29447559",
   "metadata": {},
   "outputs": [],
   "source": [
    "model = models['ElasticNet'].fit(X_train,y_train)\n",
    "pred_train = model.predict(X_train)\n",
    "pred_test = model.predict(X_test)"
   ]
  },
  {
   "cell_type": "code",
   "execution_count": null,
   "id": "2017fdde",
   "metadata": {},
   "outputs": [],
   "source": [
    "rmse_train = np.sqrt(mean_squared_error(y_train,pred_train))\n",
    "rmse_test = np.sqrt(mean_squared_error(y_test,pred_test))\n",
    "print(f'train rmse : {rmse_train:4f}')\n",
    "print(f'test rmse : {rmse_train:4f}')      "
   ]
  },
  {
   "cell_type": "code",
   "execution_count": null,
   "id": "9d6fd0ea",
   "metadata": {},
   "outputs": [],
   "source": [
    "r2_train = r2.score(y_train,pred_train)\n",
    "r2_test = r2.score(y_test,pred_test)\n",
    "print(f'train r2 : {r2_train:.4f}')\n",
    "print(f'test 2 : {r2_train:.4f}')"
   ]
  },
  {
   "cell_type": "markdown",
   "id": "6967a6b1",
   "metadata": {},
   "source": [
    "#### 예측 결과 plotting"
   ]
  },
  {
   "cell_type": "code",
   "execution_count": null,
   "id": "6b59e9dc",
   "metadata": {},
   "outputs": [],
   "source": [
    "plt.figure(figsize =(8,8))\n",
    "plt.title('실제값 vs. 모델 출력값',fontsize=16)\n",
    "plt.scatter(y_train, pred_train, c = 'red', alpha=0.5) # alpha 투명도 0일수록 투명\n",
    "plt.scatter(y_test, pred_test, c = 'blue', alpha=0.5) \n",
    "plt.plot(y_test, y_test, c = 'gray')\n",
    "plt.plot(y_train, y_train, c = 'gray')\n",
    "plt.xlabel('실제값', size = 10)\n",
    "plt.ylabel('모델 출력 값', size =10)\n",
    "plt.show()"
   ]
  },
  {
   "cell_type": "markdown",
   "id": "62af1dac",
   "metadata": {},
   "source": [
    "#### 계수값을 변수 중요도로 생각하기"
   ]
  },
  {
   "cell_type": "code",
   "execution_count": null,
   "id": "e2ddce2c",
   "metadata": {},
   "outputs": [],
   "source": [
    "model = models['ElasticNet'].fit(X_train,y_train)\n",
    "coef_df = pd.DataFrame(model.coef_.reshape(-1,1), index=X_test_final.columns, columns=['coefficents'])\n",
    "coef_df.to_csv('coef_csv')\n",
    "coef_df"
   ]
  },
  {
   "cell_type": "code",
   "execution_count": null,
   "id": "0177b2c7",
   "metadata": {},
   "outputs": [],
   "source": [
    "#Sort : descending order\n",
    "coefficents = np.abs(coef_df.coeffcents)\n",
    "index = np.argsort(coefficents)[::-1]\n",
    "print(index)"
   ]
  },
  {
   "cell_type": "code",
   "execution_count": null,
   "id": "7f7e1c7b",
   "metadata": {},
   "outputs": [],
   "source": [
    "importance = coefficents[index]\n",
    "columns = [list(coef_df.index)[i] for i in index]"
   ]
  },
  {
   "cell_type": "code",
   "execution_count": null,
   "id": "8e75c1b3",
   "metadata": {},
   "outputs": [],
   "source": [
    "importance = importance[importance > 0]"
   ]
  },
  {
   "cell_type": "code",
   "execution_count": null,
   "id": "090a7b68",
   "metadata": {},
   "outputs": [],
   "source": [
    "num_print = 20\n",
    "\n",
    "plt.figure(figsize=(10,3))\n",
    "plt.title('Feature Importances = ABS(coefficients)')\n",
    "plt.bar(range(num_print),\n",
    "       importance[:num_print],\n",
    "       align='center')\n",
    "plt.xticks(range(num_print),columns[:num_print], rotation=90,fontsize=11)\n",
    "plt.show"
   ]
  }
 ],
 "metadata": {
  "kernelspec": {
   "display_name": "Python 3 (ipykernel)",
   "language": "python",
   "name": "python3"
  },
  "language_info": {
   "codemirror_mode": {
    "name": "ipython",
    "version": 3
   },
   "file_extension": ".py",
   "mimetype": "text/x-python",
   "name": "python",
   "nbconvert_exporter": "python",
   "pygments_lexer": "ipython3",
   "version": "3.9.7"
  }
 },
 "nbformat": 4,
 "nbformat_minor": 5
}
