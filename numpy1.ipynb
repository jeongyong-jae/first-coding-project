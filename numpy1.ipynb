{
 "cells": [
  {
   "cell_type": "code",
   "execution_count": 1,
   "id": "912747f3",
   "metadata": {},
   "outputs": [],
   "source": [
    "import numpy"
   ]
  },
  {
   "cell_type": "code",
   "execution_count": 2,
   "id": "ab6af394",
   "metadata": {},
   "outputs": [],
   "source": [
    "import numpy as np"
   ]
  },
  {
   "cell_type": "code",
   "execution_count": 4,
   "id": "60b30337",
   "metadata": {},
   "outputs": [],
   "source": [
    "myarray_1 = np.array([[2,3,4],\n",
    "                    [3,4,5]])"
   ]
  },
  {
   "cell_type": "code",
   "execution_count": 5,
   "id": "eb03613d",
   "metadata": {},
   "outputs": [
    {
     "data": {
      "text/plain": [
       "array([[2, 3, 4],\n",
       "       [3, 4, 5]])"
      ]
     },
     "execution_count": 5,
     "metadata": {},
     "output_type": "execute_result"
    }
   ],
   "source": [
    "myarray_1"
   ]
  },
  {
   "cell_type": "code",
   "execution_count": 6,
   "id": "7a987122",
   "metadata": {},
   "outputs": [],
   "source": [
    "mylist1 = [1,2,3,4]"
   ]
  },
  {
   "cell_type": "code",
   "execution_count": 7,
   "id": "565f3cc6",
   "metadata": {},
   "outputs": [],
   "source": [
    "mylist2 = [[1,2,3,4],\n",
    "          [5,6,7,8]]"
   ]
  },
  {
   "cell_type": "code",
   "execution_count": 8,
   "id": "eac2790a",
   "metadata": {},
   "outputs": [],
   "source": [
    "arr1 = np.array(mylist1)"
   ]
  },
  {
   "cell_type": "code",
   "execution_count": 9,
   "id": "54912665",
   "metadata": {},
   "outputs": [],
   "source": [
    "arr2 = np.array(mylist2)"
   ]
  },
  {
   "cell_type": "code",
   "execution_count": 10,
   "id": "ba129098",
   "metadata": {},
   "outputs": [
    {
     "data": {
      "text/plain": [
       "(4,)"
      ]
     },
     "execution_count": 10,
     "metadata": {},
     "output_type": "execute_result"
    }
   ],
   "source": [
    "arr1.shape"
   ]
  },
  {
   "cell_type": "code",
   "execution_count": 11,
   "id": "785b08db",
   "metadata": {},
   "outputs": [
    {
     "data": {
      "text/plain": [
       "(2, 4)"
      ]
     },
     "execution_count": 11,
     "metadata": {},
     "output_type": "execute_result"
    }
   ],
   "source": [
    "arr2.shape"
   ]
  },
  {
   "cell_type": "code",
   "execution_count": 12,
   "id": "318e4ac1",
   "metadata": {},
   "outputs": [
    {
     "data": {
      "text/plain": [
       "6"
      ]
     },
     "execution_count": 12,
     "metadata": {},
     "output_type": "execute_result"
    }
   ],
   "source": [
    "arr2[1,1]"
   ]
  },
  {
   "cell_type": "code",
   "execution_count": 13,
   "id": "09cbc49a",
   "metadata": {},
   "outputs": [
    {
     "data": {
      "text/plain": [
       "1"
      ]
     },
     "execution_count": 13,
     "metadata": {},
     "output_type": "execute_result"
    }
   ],
   "source": [
    "arr2[0,0]"
   ]
  },
  {
   "cell_type": "code",
   "execution_count": 14,
   "id": "d0ab3542",
   "metadata": {},
   "outputs": [
    {
     "data": {
      "text/plain": [
       "4"
      ]
     },
     "execution_count": 14,
     "metadata": {},
     "output_type": "execute_result"
    }
   ],
   "source": [
    "arr2[0,3]"
   ]
  },
  {
   "cell_type": "code",
   "execution_count": 15,
   "id": "9a1562ce",
   "metadata": {},
   "outputs": [],
   "source": [
    "arr2d = np.array([[1,2,3,4],\n",
    "                 [5,6,7,8],\n",
    "                 [9,10,11,12]])"
   ]
  },
  {
   "cell_type": "code",
   "execution_count": 16,
   "id": "31712a84",
   "metadata": {},
   "outputs": [
    {
     "data": {
      "text/plain": [
       "array([ 4,  8, 12])"
      ]
     },
     "execution_count": 16,
     "metadata": {},
     "output_type": "execute_result"
    }
   ],
   "source": [
    "arr2d[:,3] #4번째 열을 가져오라는 뜻"
   ]
  },
  {
   "cell_type": "code",
   "execution_count": 17,
   "id": "df160dbe",
   "metadata": {},
   "outputs": [
    {
     "data": {
      "text/plain": [
       "array([ 9, 10, 11, 12])"
      ]
     },
     "execution_count": 17,
     "metadata": {},
     "output_type": "execute_result"
    }
   ],
   "source": [
    "arr2d[2,:]"
   ]
  },
  {
   "cell_type": "code",
   "execution_count": 18,
   "id": "3253e0f8",
   "metadata": {},
   "outputs": [
    {
     "data": {
      "text/plain": [
       "array([4, 8])"
      ]
     },
     "execution_count": 18,
     "metadata": {},
     "output_type": "execute_result"
    }
   ],
   "source": [
    "arr2d[:2,3]"
   ]
  },
  {
   "cell_type": "code",
   "execution_count": 19,
   "id": "5d533e52",
   "metadata": {},
   "outputs": [
    {
     "data": {
      "text/plain": [
       "array([4])"
      ]
     },
     "execution_count": 19,
     "metadata": {},
     "output_type": "execute_result"
    }
   ],
   "source": [
    "arr2d[:1,3]"
   ]
  },
  {
   "cell_type": "code",
   "execution_count": 20,
   "id": "b09e166e",
   "metadata": {},
   "outputs": [
    {
     "data": {
      "text/plain": [
       "array([ 4,  8, 12])"
      ]
     },
     "execution_count": 20,
     "metadata": {},
     "output_type": "execute_result"
    }
   ],
   "source": [
    "arr2d[:3,3]"
   ]
  },
  {
   "cell_type": "code",
   "execution_count": 21,
   "id": "6bcadf98",
   "metadata": {},
   "outputs": [
    {
     "data": {
      "text/plain": [
       "array([3, 7])"
      ]
     },
     "execution_count": 21,
     "metadata": {},
     "output_type": "execute_result"
    }
   ],
   "source": [
    "arr2d[:2,2] # 3열의 3번째 요소 미만"
   ]
  },
  {
   "cell_type": "code",
   "execution_count": 22,
   "id": "d73938bd",
   "metadata": {},
   "outputs": [
    {
     "data": {
      "text/plain": [
       "array([8])"
      ]
     },
     "execution_count": 22,
     "metadata": {},
     "output_type": "execute_result"
    }
   ],
   "source": [
    "arr2d[1,3:] #1행의 4번째요소 이상"
   ]
  },
  {
   "cell_type": "code",
   "execution_count": 23,
   "id": "d5f31613",
   "metadata": {},
   "outputs": [
    {
     "data": {
      "text/plain": [
       "array([11, 12])"
      ]
     },
     "execution_count": 23,
     "metadata": {},
     "output_type": "execute_result"
    }
   ],
   "source": [
    "arr2d[2,2:]"
   ]
  },
  {
   "cell_type": "code",
   "execution_count": 24,
   "id": "02d7bc9f",
   "metadata": {},
   "outputs": [],
   "source": [
    "arr2d = np.array([[1,2,3,4],\n",
    "                 [5,6,7,8],\n",
    "                 [9,10,11,12]])"
   ]
  },
  {
   "cell_type": "code",
   "execution_count": 25,
   "id": "a9327e79",
   "metadata": {},
   "outputs": [
    {
     "data": {
      "text/plain": [
       "array([[ 9, 10, 11, 12],\n",
       "       [ 5,  6,  7,  8]])"
      ]
     },
     "execution_count": 25,
     "metadata": {},
     "output_type": "execute_result"
    }
   ],
   "source": [
    "arr2d[[2,1],:]"
   ]
  },
  {
   "cell_type": "code",
   "execution_count": null,
   "id": "630d8b62",
   "metadata": {},
   "outputs": [],
   "source": []
  }
 ],
 "metadata": {
  "kernelspec": {
   "display_name": "Python 3 (ipykernel)",
   "language": "python",
   "name": "python3"
  },
  "language_info": {
   "codemirror_mode": {
    "name": "ipython",
    "version": 3
   },
   "file_extension": ".py",
   "mimetype": "text/x-python",
   "name": "python",
   "nbconvert_exporter": "python",
   "pygments_lexer": "ipython3",
   "version": "3.9.7"
  }
 },
 "nbformat": 4,
 "nbformat_minor": 5
}
